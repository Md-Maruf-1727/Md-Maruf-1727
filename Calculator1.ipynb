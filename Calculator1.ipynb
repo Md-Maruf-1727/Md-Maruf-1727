{
 "cells": [
  {
   "cell_type": "code",
   "execution_count": 16,
   "id": "d210e327-2276-46a3-a179-af7c3f09a19f",
   "metadata": {},
   "outputs": [
    {
     "name": "stdout",
     "output_type": "stream",
     "text": [
      "Welcome into my Calculator.\n",
      "Click 1 for Addition\n",
      "Click 2 for Subtraction\n",
      "Click 3 for Multiplication\n",
      "Click 4 for Division\n"
     ]
    },
    {
     "name": "stdin",
     "output_type": "stream",
     "text": [
      "Enter a your choice 1/2/3/4 or 'exit' for exit. 3\n",
      "Enter the value of a:  3\n",
      "Enter the value of b:  3\n"
     ]
    },
    {
     "name": "stdout",
     "output_type": "stream",
     "text": [
      "The Addition of 3 and 3 is: 9.\n"
     ]
    },
    {
     "name": "stdin",
     "output_type": "stream",
     "text": [
      "Enter a your choice 1/2/3/4 or 'exit' for exit. 2\n",
      "Enter the value of a:  3\n",
      "Enter the value of b:  3\n"
     ]
    },
    {
     "name": "stdout",
     "output_type": "stream",
     "text": [
      "The Subtraction of 3 and 3 is: 0.\n"
     ]
    },
    {
     "name": "stdin",
     "output_type": "stream",
     "text": [
      "Enter a your choice 1/2/3/4 or 'exit' for exit. exit\n"
     ]
    },
    {
     "name": "stdout",
     "output_type": "stream",
     "text": [
      "You are exit from the calculator.\n"
     ]
    }
   ],
   "source": [
    "def add(a, b):\n",
    "    return a + b\n",
    "def sub(a, b):\n",
    "    return a - b\n",
    "def multi(a, b):\n",
    "    return a * b\n",
    "def div(a, b):\n",
    "    return a / b\n",
    "\n",
    "#print(f\"Welcome to my Calculator!\\nClick 1 for Addition.\\nClick 2 for Subtraction.\n",
    "#\\nClick 3 for Multiplication.\\nClick 4 for Division.\\Write \\'Exit\\' for exit.\")\n",
    "print(\"Welcome into my Calculator.\")\n",
    "print(\"Click 1 for Addition\")\n",
    "print(\"Click 2 for Subtraction\")\n",
    "print(\"Click 3 for Multiplication\")\n",
    "print(\"Click 4 for Division\")\n",
    "\n",
    "def calculator():\n",
    "    while True:\n",
    "        choice = input(\"Enter a your choice 1/2/3/4 or \\'exit\\' for exit.\")\n",
    "        choice_lower = choice.lower()\n",
    "        choice_lower = 'exit'\n",
    "        if choice == choice_lower:\n",
    "            print(\"You are exit from the calculator.\")\n",
    "            break\n",
    "        else:\n",
    "            try:\n",
    "                choice_int = int(choice)\n",
    "                if choice_int in [1,2,3,4]:\n",
    "                    num1 = int(input(\"Enter the value of a: \"))\n",
    "                    num2 = int(input(\"Enter the value of b: \"))\n",
    "                    if choice_int == 1:\n",
    "                        print(f\"The Addition of {num1} and {num2} is: {add(num1, num2)}.\")\n",
    "                    elif choice_int == 2:\n",
    "                        print(f\"The Subtraction of {num1} and {num2} is: {sub(num1, num2)}.\") \n",
    "                    elif choice_int == 3:\n",
    "                        print(f\"The Addition of {num1} and {num2} is: {multi(num1, num2)}.\")\n",
    "                    elif choice_int == 4:\n",
    "                        try:\n",
    "                            print(f\"Division of {num1} and {num2} is {div(num1, num2)}\")\n",
    "                        except Exception as y:\n",
    "                            print(f\"Can not divide by 0\")\n",
    "            except Exception as e:\n",
    "                print(f\"Give a number from the given number {e}\")\n",
    "calculator()                "
   ]
  },
  {
   "cell_type": "code",
   "execution_count": null,
   "id": "24b63ca3-6358-420d-993a-a4b54c2348f8",
   "metadata": {},
   "outputs": [],
   "source": []
  }
 ],
 "metadata": {
  "kernelspec": {
   "display_name": "Python 3 (ipykernel)",
   "language": "python",
   "name": "python3"
  },
  "language_info": {
   "codemirror_mode": {
    "name": "ipython",
    "version": 3
   },
   "file_extension": ".py",
   "mimetype": "text/x-python",
   "name": "python",
   "nbconvert_exporter": "python",
   "pygments_lexer": "ipython3",
   "version": "3.11.4"
  }
 },
 "nbformat": 4,
 "nbformat_minor": 5
}
